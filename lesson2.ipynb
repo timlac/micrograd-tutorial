{
 "cells": [
  {
   "cell_type": "code",
   "execution_count": 22,
   "id": "initial_id",
   "metadata": {
    "collapsed": true,
    "ExecuteTime": {
     "end_time": "2023-09-27T16:49:31.592467094Z",
     "start_time": "2023-09-27T16:49:31.567479120Z"
    }
   },
   "outputs": [],
   "source": [
    "import random\n",
    "import math\n",
    "import numpy as np\n",
    "import matplotlib.pyplot as plt\n",
    "%matplotlib inline"
   ]
  },
  {
   "cell_type": "code",
   "execution_count": 23,
   "outputs": [],
   "source": [
    "def f(x):\n",
    "    return 3*x**2 - 4*x + 5"
   ],
   "metadata": {
    "collapsed": false,
    "ExecuteTime": {
     "end_time": "2023-09-27T16:49:31.592603714Z",
     "start_time": "2023-09-27T16:49:31.567545539Z"
    }
   },
   "id": "9e0ecabd71aa3012"
  },
  {
   "cell_type": "code",
   "execution_count": 24,
   "outputs": [
    {
     "data": {
      "text/plain": "20.0"
     },
     "execution_count": 24,
     "metadata": {},
     "output_type": "execute_result"
    }
   ],
   "source": [
    "f(3.0)"
   ],
   "metadata": {
    "collapsed": false,
    "ExecuteTime": {
     "end_time": "2023-09-27T16:49:31.592727827Z",
     "start_time": "2023-09-27T16:49:31.567565360Z"
    }
   },
   "id": "61070921165b6852"
  },
  {
   "cell_type": "code",
   "execution_count": 25,
   "outputs": [
    {
     "data": {
      "text/plain": "[<matplotlib.lines.Line2D at 0x7f82cb3f6e00>]"
     },
     "execution_count": 25,
     "metadata": {},
     "output_type": "execute_result"
    },
    {
     "data": {
      "text/plain": "<Figure size 640x480 with 1 Axes>",
      "image/png": "[encoded data removed]"
     },
     "metadata": {},
     "output_type": "display_data"
    }
   ],
   "source": [
    "xs = np.arange(-5, 5, 0.25)\n",
    "ys = f(xs)\n",
    "plt.plot(xs, ys)"
   ],
   "metadata": {
    "collapsed": false,
    "ExecuteTime": {
     "end_time": "2023-09-27T16:49:31.654349535Z",
     "start_time": "2023-09-27T16:49:31.567587372Z"
    }
   },
   "id": "7f6864951a09fdc4"
  },
  {
   "cell_type": "code",
   "execution_count": 26,
   "outputs": [
    {
     "data": {
      "text/plain": "0.0"
     },
     "execution_count": 26,
     "metadata": {},
     "output_type": "execute_result"
    }
   ],
   "source": [
    "h = 0.00000001\n",
    "x = 2/3\n",
    "(f(x+h) - f(x))/h"
   ],
   "metadata": {
    "collapsed": false,
    "ExecuteTime": {
     "end_time": "2023-09-27T16:49:31.684351796Z",
     "start_time": "2023-09-27T16:49:31.610588104Z"
    }
   },
   "id": "5c65fa3fc4023797"
  },
  {
   "cell_type": "code",
   "execution_count": 27,
   "outputs": [
    {
     "name": "stdout",
     "output_type": "stream",
     "text": [
      "4.0\n"
     ]
    }
   ],
   "source": [
    "a = 2.0\n",
    "b = -3.0\n",
    "c = 10.0\n",
    "d = a*b + c\n",
    "print(d)"
   ],
   "metadata": {
    "collapsed": false,
    "ExecuteTime": {
     "end_time": "2023-09-27T16:49:31.684700879Z",
     "start_time": "2023-09-27T16:49:31.613260036Z"
    }
   },
   "id": "c4693d6a5f7edf66"
  },
  {
   "cell_type": "code",
   "execution_count": 28,
   "outputs": [
    {
     "name": "stdout",
     "output_type": "stream",
     "text": [
      "d1:  4.0\n",
      "d2:  4.000000999999999\n",
      "slope:  0.9999999992515995\n"
     ]
    }
   ],
   "source": [
    "h = 0.000001\n",
    "\n",
    "a = 2.0\n",
    "b = -3.0\n",
    "c = 10.0\n",
    "\n",
    "d1 = a*b + c\n",
    "c += h\n",
    "d2 = a*b + c\n",
    "print(\"d1: \", d1)\n",
    "print(\"d2: \", d2)\n",
    "print(\"slope: \", (d2 - d1)/h)"
   ],
   "metadata": {
    "collapsed": false,
    "ExecuteTime": {
     "end_time": "2023-09-27T16:49:31.684822969Z",
     "start_time": "2023-09-27T16:49:31.616717725Z"
    }
   },
   "id": "3f896ea367ccb364"
  },
  {
   "cell_type": "code",
   "execution_count": 29,
   "outputs": [],
   "source": [
    "class Value:\n",
    "    \n",
    "    def __init__(self, data, _children=(), _op='', label=''):\n",
    "        self.data = data\n",
    "        self.grad = 0.0\n",
    "        self._backward = lambda: None\n",
    "        self._prev = set(_children)\n",
    "        self._op = _op\n",
    "        self.label = label\n",
    "        \n",
    "    def __repr__(self):\n",
    "        return f\"Value(data={self.data})\"\n",
    "    \n",
    "    def __add__(self, other):\n",
    "        other = other if (isinstance(other, Value)) else Value(other) \n",
    "        \n",
    "        out = Value(self.data + other.data, (self, other), \"+\")\n",
    "        \n",
    "        def _backward():\n",
    "            self.grad += 1.0 * out.grad\n",
    "            other.grad += 1.0 * out.grad\n",
    "        \n",
    "        out._backward = _backward\n",
    "        return out \n",
    "    \n",
    "    def __radd__(self, other):\n",
    "        return self + other\n",
    "    \n",
    "    def __mul__(self, other):\n",
    "        other = other if (isinstance(other, Value)) else Value(other) \n",
    "\n",
    "        out = Value(self.data * other.data, (self, other), \"*\")\n",
    "        \n",
    "        def _backward():\n",
    "            self.grad += other.data * out.grad\n",
    "            other.grad += self.data * out.grad        \n",
    "        out._backward = _backward\n",
    "        return out \n",
    "    \n",
    "    def __pow__(self, other):        \n",
    "        assert isinstance(other, (int, float)), \"only supporting int/float powers for now\"\n",
    "        out = Value(self.data**other, (self, ), f'**{other}')\n",
    "        \n",
    "        def _backward():\n",
    "            self.grad += other * (self.data ** (other -1 )) * out.grad\n",
    "        out._backward = _backward     \n",
    "        return out\n",
    "        \n",
    "    def __rmul__(self, other):\n",
    "        return self * other\n",
    "    \n",
    "    def __truediv__(self, other):\n",
    "        return self * other**(-1)\n",
    "    \n",
    "    def __neg__(self):\n",
    "        return self * (-1)\n",
    "        \n",
    "    def __sub__(self, other):\n",
    "        return self + (-other)\n",
    "    \n",
    "    def __rsub__(self, other):\n",
    "        return self - other\n",
    "    \n",
    "    def tanh(self):\n",
    "        x = self.data\n",
    "        t = (math.exp(2*x) - 1) / (math.exp(2*x) + 1)\n",
    "        out = Value(t, (self, ), 'tanh')\n",
    "        \n",
    "        def _backward():\n",
    "            self.grad += (1 - t**2) * out.grad        \n",
    "        out._backward = _backward\n",
    "        return out\n",
    "    \n",
    "    def exp(self):\n",
    "        x = self.data\n",
    "        out = Value(math.exp(x), (self, ), 'exp')\n",
    "        \n",
    "        def _backward():\n",
    "            self.grad += out.data * out.grad\n",
    "        \n",
    "        out._backward = _backward\n",
    "        \n",
    "        return out\n",
    "    \n",
    "    def backward(self):\n",
    "        topo = []\n",
    "        visited = set()\n",
    "        def build_topo(v):\n",
    "            if v not in visited:\n",
    "                visited.add(v)\n",
    "                for child in v._prev:\n",
    "                    build_topo(child)\n",
    "                topo.append(v)\n",
    "        build_topo(self)\n",
    "        \n",
    "        self.grad = 1.0\n",
    "        for node in reversed(topo):\n",
    "            node._backward()\n",
    "            "
   ],
   "metadata": {
    "collapsed": false,
    "ExecuteTime": {
     "end_time": "2023-09-27T16:49:31.687385313Z",
     "start_time": "2023-09-27T16:49:31.619990810Z"
    }
   },
   "id": "bd53ca13b4137bf"
  },
  {
   "cell_type": "code",
   "execution_count": 30,
   "outputs": [
    {
     "data": {
      "text/plain": "Value(data=-1.0)"
     },
     "execution_count": 30,
     "metadata": {},
     "output_type": "execute_result"
    }
   ],
   "source": [
    "a = Value(2.0)\n",
    "b = 3.0\n",
    "b - a"
   ],
   "metadata": {
    "collapsed": false,
    "ExecuteTime": {
     "end_time": "2023-09-27T16:49:31.687546945Z",
     "start_time": "2023-09-27T16:49:31.661774977Z"
    }
   },
   "id": "2fa21b2871714e08"
  },
  {
   "cell_type": "code",
   "execution_count": 31,
   "outputs": [],
   "source": [
    "from graphviz import Digraph\n",
    "\n",
    "def trace(root):\n",
    "    nodes, edges = set(), set()\n",
    "    def build(v):\n",
    "        if v not in nodes:\n",
    "            nodes.add(v)\n",
    "            for child in v._prev:\n",
    "                edges.add((child, v))\n",
    "                build(child)\n",
    "    build(root)\n",
    "    return nodes, edges\n",
    "\n",
    "def draw_dot(root, format='svg', rankdir='LR'):\n",
    "    \"\"\"\n",
    "    format: png | svg | ...\n",
    "    rankdir: TB (top to bottom graph) | LR (left to right)\n",
    "    \"\"\"\n",
    "    assert rankdir in ['LR', 'TB']\n",
    "    nodes, edges = trace(root)\n",
    "    dot = Digraph(format=format, graph_attr={'rankdir': rankdir}) #, node_attr={'rankdir': 'TB'})\n",
    "    \n",
    "    for n in nodes:\n",
    "        dot.node(name=str(id(n)), label = \"{ %s | data %.4f | grad %4f }\" % (n.label, n.data, n.grad), shape='record')\n",
    "        if n._op:\n",
    "            dot.node(name=str(id(n)) + n._op, label=n._op)\n",
    "            dot.edge(str(id(n)) + n._op, str(id(n)))\n",
    "    \n",
    "    for n1, n2 in edges:\n",
    "        dot.edge(str(id(n1)), str(id(n2)) + n2._op)\n",
    "    \n",
    "    return dot\n"
   ],
   "metadata": {
    "collapsed": false,
    "ExecuteTime": {
     "end_time": "2023-09-27T16:49:31.687591027Z",
     "start_time": "2023-09-27T16:49:31.661827698Z"
    }
   },
   "id": "f9636b3497ff3d10"
  },
  {
   "cell_type": "code",
   "execution_count": 32,
   "outputs": [],
   "source": [
    "# input values\n",
    "x1 = Value(2.0, label='x1')\n",
    "x2 = Value(0.0, label='x2')\n",
    "\n",
    "# weights \n",
    "w1 = Value(-3.0, label='w1')\n",
    "w2 = Value(1.0, label='w2')\n",
    "\n",
    "# bias\n",
    "b1 = Value(6.8813735870195432, label='b1')\n",
    "\n",
    "# forward prop\n",
    "x1w1 = x1 * w1; x1w1.label='x1w1'\n",
    "x2w2 = x2 * w2; x2w2.label='x2w2'\n",
    "\n",
    "x1w1x2w2 = x1w1 + x2w2; x1w1x2w2.label='x1w1x2w2'\n",
    "n = x1w1x2w2 + b1; n.label='n'\n",
    "\n",
    "e = (2*n).exp()\n",
    "o = (e + 1) / e - 1"
   ],
   "metadata": {
    "collapsed": false,
    "ExecuteTime": {
     "end_time": "2023-09-27T16:49:31.687644447Z",
     "start_time": "2023-09-27T16:49:31.661853223Z"
    }
   },
   "id": "9a24e5dae3986c2d"
  },
  {
   "cell_type": "code",
   "execution_count": 33,
   "outputs": [
    {
     "data": {
      "image/svg+xml": "<?xml version=\"1.0\" encoding=\"UTF-8\" standalone=\"no\"?>\n<!DOCTYPE svg PUBLIC \"-//W3C//DTD SVG 1.1//EN\"\n \"http://www.w3.org/Graphics/SVG/1.1/DTD/svg11.dtd\">\n<!-- Generated by graphviz version 2.43.0 (0)\n -->\n<!-- Title: %3 Pages: 1 -->\n<svg width=\"3373pt\" height=\"211pt\"\n viewBox=\"0.00 0.00 3372.79 211.00\" xmlns=\"http://www.w3.org/2000/svg\" xmlns:xlink=\"http://www.w3.org/1999/xlink\">\n<g id=\"graph0\" class=\"graph\" transform=\"scale(1 1) rotate(0) translate(4 207)\">\n<title>%3</title>\n<polygon fill=\"white\" stroke=\"transparent\" points=\"-4,4 -4,-207 3368.79,-207 3368.79,4 -4,4\"/>\n<!-- 140199705443344 -->\n<g id=\"node1\" class=\"node\">\n<title>140199705443344</title>\n<polygon fill=\"none\" stroke=\"black\" points=\"3119.79,-81.5 3119.79,-117.5 3364.79,-117.5 3364.79,-81.5 3119.79,-81.5\"/>\n<text text-anchor=\"middle\" x=\"3130.29\" y=\"-95.8\" font-family=\"Times,serif\" font-size=\"14.00\"> </text>\n<polyline fill=\"none\" stroke=\"black\" points=\"3140.79,-81.5 3140.79,-117.5 \"/>\n<text text-anchor=\"middle\" x=\"3191.79\" y=\"-95.8\" font-family=\"Times,serif\" font-size=\"14.00\">data 0.1716</text>\n<polyline fill=\"none\" stroke=\"black\" points=\"3242.79,-81.5 3242.79,-117.5 \"/>\n<text text-anchor=\"middle\" x=\"3303.79\" y=\"-95.8\" font-family=\"Times,serif\" font-size=\"14.00\">grad 0.000000</text>\n</g>\n<!-- 140199705443344+ -->\n<g id=\"node2\" class=\"node\">\n<title>140199705443344+</title>\n<ellipse fill=\"none\" stroke=\"black\" cx=\"3056.79\" cy=\"-99.5\" rx=\"27\" ry=\"18\"/>\n<text text-anchor=\"middle\" x=\"3056.79\" y=\"-95.8\" font-family=\"Times,serif\" font-size=\"14.00\">+</text>\n</g>\n<!-- 140199705443344+&#45;&gt;140199705443344 -->\n<g id=\"edge1\" class=\"edge\">\n<title>140199705443344+&#45;&gt;140199705443344</title>\n<path fill=\"none\" stroke=\"black\" d=\"M3084.08,-99.5C3091.58,-99.5 3100.3,-99.5 3109.72,-99.5\"/>\n<polygon fill=\"black\" stroke=\"black\" points=\"3109.76,-103 3119.76,-99.5 3109.76,-96 3109.76,-103\"/>\n</g>\n<!-- 140199705443872 -->\n<g id=\"node3\" class=\"node\">\n<title>140199705443872</title>\n<polygon fill=\"none\" stroke=\"black\" points=\"803,-83.5 803,-119.5 1125,-119.5 1125,-83.5 803,-83.5\"/>\n<text text-anchor=\"middle\" x=\"849.5\" y=\"-97.8\" font-family=\"Times,serif\" font-size=\"14.00\">x1w1x2w2</text>\n<polyline fill=\"none\" stroke=\"black\" points=\"896,-83.5 896,-119.5 \"/>\n<text text-anchor=\"middle\" x=\"949.5\" y=\"-97.8\" font-family=\"Times,serif\" font-size=\"14.00\">data &#45;6.0000</text>\n<polyline fill=\"none\" stroke=\"black\" points=\"1003,-83.5 1003,-119.5 \"/>\n<text text-anchor=\"middle\" x=\"1064\" y=\"-97.8\" font-family=\"Times,serif\" font-size=\"14.00\">grad 0.000000</text>\n</g>\n<!-- 140199705442912+ -->\n<g id=\"node11\" class=\"node\">\n<title>140199705442912+</title>\n<ellipse fill=\"none\" stroke=\"black\" cx=\"1188\" cy=\"-73.5\" rx=\"27\" ry=\"18\"/>\n<text text-anchor=\"middle\" x=\"1188\" y=\"-69.8\" font-family=\"Times,serif\" font-size=\"14.00\">+</text>\n</g>\n<!-- 140199705443872&#45;&gt;140199705442912+ -->\n<g id=\"edge17\" class=\"edge\">\n<title>140199705443872&#45;&gt;140199705442912+</title>\n<path fill=\"none\" stroke=\"black\" d=\"M1107.79,-83.49C1123.71,-81.48 1138.67,-79.6 1151.21,-78.01\"/>\n<polygon fill=\"black\" stroke=\"black\" points=\"1151.66,-81.48 1161.14,-76.76 1150.79,-74.54 1151.66,-81.48\"/>\n</g>\n<!-- 140199705443872+ -->\n<g id=\"node4\" class=\"node\">\n<title>140199705443872+</title>\n<ellipse fill=\"none\" stroke=\"black\" cx=\"740\" cy=\"-101.5\" rx=\"27\" ry=\"18\"/>\n<text text-anchor=\"middle\" x=\"740\" y=\"-97.8\" font-family=\"Times,serif\" font-size=\"14.00\">+</text>\n</g>\n<!-- 140199705443872+&#45;&gt;140199705443872 -->\n<g id=\"edge2\" class=\"edge\">\n<title>140199705443872+&#45;&gt;140199705443872</title>\n<path fill=\"none\" stroke=\"black\" d=\"M767.34,-101.5C774.67,-101.5 783.21,-101.5 792.55,-101.5\"/>\n<polygon fill=\"black\" stroke=\"black\" points=\"792.56,-105 802.56,-101.5 792.56,-98 792.56,-105\"/>\n</g>\n<!-- 140199705439792 -->\n<g id=\"node5\" class=\"node\">\n<title>140199705439792</title>\n<polygon fill=\"none\" stroke=\"black\" points=\"0,-166.5 0,-202.5 267,-202.5 267,-166.5 0,-166.5\"/>\n<text text-anchor=\"middle\" x=\"19\" y=\"-180.8\" font-family=\"Times,serif\" font-size=\"14.00\">w1</text>\n<polyline fill=\"none\" stroke=\"black\" points=\"38,-166.5 38,-202.5 \"/>\n<text text-anchor=\"middle\" x=\"91.5\" y=\"-180.8\" font-family=\"Times,serif\" font-size=\"14.00\">data &#45;3.0000</text>\n<polyline fill=\"none\" stroke=\"black\" points=\"145,-166.5 145,-202.5 \"/>\n<text text-anchor=\"middle\" x=\"206\" y=\"-180.8\" font-family=\"Times,serif\" font-size=\"14.00\">grad 0.000000</text>\n</g>\n<!-- 140199705443392* -->\n<g id=\"node9\" class=\"node\">\n<title>140199705443392*</title>\n<ellipse fill=\"none\" stroke=\"black\" cx=\"330\" cy=\"-129.5\" rx=\"27\" ry=\"18\"/>\n<text text-anchor=\"middle\" x=\"330\" y=\"-125.8\" font-family=\"Times,serif\" font-size=\"14.00\">*</text>\n</g>\n<!-- 140199705439792&#45;&gt;140199705443392* -->\n<g id=\"edge12\" class=\"edge\">\n<title>140199705439792&#45;&gt;140199705443392*</title>\n<path fill=\"none\" stroke=\"black\" d=\"M235.31,-166.42C246.1,-163.76 256.84,-160.79 267,-157.5 277.73,-154.03 289.08,-149.26 299.1,-144.63\"/>\n<polygon fill=\"black\" stroke=\"black\" points=\"300.7,-147.74 308.23,-140.29 297.69,-141.42 300.7,-147.74\"/>\n</g>\n<!-- 140199731681344 -->\n<g id=\"node6\" class=\"node\">\n<title>140199731681344</title>\n<polygon fill=\"none\" stroke=\"black\" points=\"1998.6,-27.5 1998.6,-63.5 2243.6,-63.5 2243.6,-27.5 1998.6,-27.5\"/>\n<text text-anchor=\"middle\" x=\"2009.1\" y=\"-41.8\" font-family=\"Times,serif\" font-size=\"14.00\"> </text>\n<polyline fill=\"none\" stroke=\"black\" points=\"2019.6,-27.5 2019.6,-63.5 \"/>\n<text text-anchor=\"middle\" x=\"2070.6\" y=\"-41.8\" font-family=\"Times,serif\" font-size=\"14.00\">data 5.8284</text>\n<polyline fill=\"none\" stroke=\"black\" points=\"2121.6,-27.5 2121.6,-63.5 \"/>\n<text text-anchor=\"middle\" x=\"2182.6\" y=\"-41.8\" font-family=\"Times,serif\" font-size=\"14.00\">grad 0.000000</text>\n</g>\n<!-- 140199731675344**&#45;1 -->\n<g id=\"node17\" class=\"node\">\n<title>140199731675344**&#45;1</title>\n<ellipse fill=\"none\" stroke=\"black\" cx=\"2308.19\" cy=\"-45.5\" rx=\"28.7\" ry=\"18\"/>\n<text text-anchor=\"middle\" x=\"2308.19\" y=\"-41.8\" font-family=\"Times,serif\" font-size=\"14.00\">**&#45;1</text>\n</g>\n<!-- 140199731681344&#45;&gt;140199731675344**&#45;1 -->\n<g id=\"edge24\" class=\"edge\">\n<title>140199731681344&#45;&gt;140199731675344**&#45;1</title>\n<path fill=\"none\" stroke=\"black\" d=\"M2243.75,-45.5C2252.81,-45.5 2261.45,-45.5 2269.28,-45.5\"/>\n<polygon fill=\"black\" stroke=\"black\" points=\"2269.42,-49 2279.42,-45.5 2269.42,-42 2269.42,-49\"/>\n</g>\n<!-- 140199731677120+ -->\n<g id=\"node27\" class=\"node\">\n<title>140199731677120+</title>\n<ellipse fill=\"none\" stroke=\"black\" cx=\"2308.19\" cy=\"-100.5\" rx=\"27\" ry=\"18\"/>\n<text text-anchor=\"middle\" x=\"2308.19\" y=\"-96.8\" font-family=\"Times,serif\" font-size=\"14.00\">+</text>\n</g>\n<!-- 140199731681344&#45;&gt;140199731677120+ -->\n<g id=\"edge13\" class=\"edge\">\n<title>140199731681344&#45;&gt;140199731677120+</title>\n<path fill=\"none\" stroke=\"black\" d=\"M2212.54,-63.53C2223.09,-66.24 2233.64,-69.24 2243.6,-72.5 2254.74,-76.15 2266.6,-81.07 2277.01,-85.77\"/>\n<polygon fill=\"black\" stroke=\"black\" points=\"2275.57,-88.95 2286.11,-89.97 2278.5,-82.6 2275.57,-88.95\"/>\n</g>\n<!-- 140199731681344exp -->\n<g id=\"node7\" class=\"node\">\n<title>140199731681344exp</title>\n<ellipse fill=\"none\" stroke=\"black\" cx=\"1935.3\" cy=\"-45.5\" rx=\"27.1\" ry=\"18\"/>\n<text text-anchor=\"middle\" x=\"1935.3\" y=\"-41.8\" font-family=\"Times,serif\" font-size=\"14.00\">exp</text>\n</g>\n<!-- 140199731681344exp&#45;&gt;140199731681344 -->\n<g id=\"edge3\" class=\"edge\">\n<title>140199731681344exp&#45;&gt;140199731681344</title>\n<path fill=\"none\" stroke=\"black\" d=\"M1962.63,-45.5C1970.15,-45.5 1978.88,-45.5 1988.31,-45.5\"/>\n<polygon fill=\"black\" stroke=\"black\" points=\"1988.37,-49 1998.37,-45.5 1988.37,-42 1988.37,-49\"/>\n</g>\n<!-- 140199705443392 -->\n<g id=\"node8\" class=\"node\">\n<title>140199705443392</title>\n<polygon fill=\"none\" stroke=\"black\" points=\"393,-111.5 393,-147.5 677,-147.5 677,-111.5 393,-111.5\"/>\n<text text-anchor=\"middle\" x=\"420.5\" y=\"-125.8\" font-family=\"Times,serif\" font-size=\"14.00\">x1w1</text>\n<polyline fill=\"none\" stroke=\"black\" points=\"448,-111.5 448,-147.5 \"/>\n<text text-anchor=\"middle\" x=\"501.5\" y=\"-125.8\" font-family=\"Times,serif\" font-size=\"14.00\">data &#45;6.0000</text>\n<polyline fill=\"none\" stroke=\"black\" points=\"555,-111.5 555,-147.5 \"/>\n<text text-anchor=\"middle\" x=\"616\" y=\"-125.8\" font-family=\"Times,serif\" font-size=\"14.00\">grad 0.000000</text>\n</g>\n<!-- 140199705443392&#45;&gt;140199705443872+ -->\n<g id=\"edge25\" class=\"edge\">\n<title>140199705443392&#45;&gt;140199705443872+</title>\n<path fill=\"none\" stroke=\"black\" d=\"M666.57,-111.49C679.85,-109.66 692.4,-107.93 703.21,-106.44\"/>\n<polygon fill=\"black\" stroke=\"black\" points=\"703.97,-109.86 713.4,-105.03 703.01,-102.93 703.97,-109.86\"/>\n</g>\n<!-- 140199705443392*&#45;&gt;140199705443392 -->\n<g id=\"edge4\" class=\"edge\">\n<title>140199705443392*&#45;&gt;140199705443392</title>\n<path fill=\"none\" stroke=\"black\" d=\"M357.12,-129.5C364.59,-129.5 373.31,-129.5 382.8,-129.5\"/>\n<polygon fill=\"black\" stroke=\"black\" points=\"382.95,-133 392.95,-129.5 382.95,-126 382.95,-133\"/>\n</g>\n<!-- 140199705442912 -->\n<g id=\"node10\" class=\"node\">\n<title>140199705442912</title>\n<polygon fill=\"none\" stroke=\"black\" points=\"1251,-55.5 1251,-91.5 1501,-91.5 1501,-55.5 1251,-55.5\"/>\n<text text-anchor=\"middle\" x=\"1264\" y=\"-69.8\" font-family=\"Times,serif\" font-size=\"14.00\">n</text>\n<polyline fill=\"none\" stroke=\"black\" points=\"1277,-55.5 1277,-91.5 \"/>\n<text text-anchor=\"middle\" x=\"1328\" y=\"-69.8\" font-family=\"Times,serif\" font-size=\"14.00\">data 0.8814</text>\n<polyline fill=\"none\" stroke=\"black\" points=\"1379,-55.5 1379,-91.5 \"/>\n<text text-anchor=\"middle\" x=\"1440\" y=\"-69.8\" font-family=\"Times,serif\" font-size=\"14.00\">grad 0.000000</text>\n</g>\n<!-- 140199731678608* -->\n<g id=\"node25\" class=\"node\">\n<title>140199731678608*</title>\n<ellipse fill=\"none\" stroke=\"black\" cx=\"1564\" cy=\"-45.5\" rx=\"27\" ry=\"18\"/>\n<text text-anchor=\"middle\" x=\"1564\" y=\"-41.8\" font-family=\"Times,serif\" font-size=\"14.00\">*</text>\n</g>\n<!-- 140199705442912&#45;&gt;140199731678608* -->\n<g id=\"edge28\" class=\"edge\">\n<title>140199705442912&#45;&gt;140199731678608*</title>\n<path fill=\"none\" stroke=\"black\" d=\"M1496.64,-55.49C1507.7,-53.82 1518.22,-52.24 1527.49,-50.85\"/>\n<polygon fill=\"black\" stroke=\"black\" points=\"1528.01,-54.31 1537.38,-49.36 1526.97,-47.38 1528.01,-54.31\"/>\n</g>\n<!-- 140199705442912+&#45;&gt;140199705442912 -->\n<g id=\"edge5\" class=\"edge\">\n<title>140199705442912+&#45;&gt;140199705442912</title>\n<path fill=\"none\" stroke=\"black\" d=\"M1215.25,-73.5C1222.61,-73.5 1231.14,-73.5 1240.36,-73.5\"/>\n<polygon fill=\"black\" stroke=\"black\" points=\"1240.61,-77 1250.61,-73.5 1240.61,-70 1240.61,-77\"/>\n</g>\n<!-- 140199705433696 -->\n<g id=\"node12\" class=\"node\">\n<title>140199705433696</title>\n<polygon fill=\"none\" stroke=\"black\" points=\"395.5,-56.5 395.5,-92.5 674.5,-92.5 674.5,-56.5 395.5,-56.5\"/>\n<text text-anchor=\"middle\" x=\"423\" y=\"-70.8\" font-family=\"Times,serif\" font-size=\"14.00\">x2w2</text>\n<polyline fill=\"none\" stroke=\"black\" points=\"450.5,-56.5 450.5,-92.5 \"/>\n<text text-anchor=\"middle\" x=\"501.5\" y=\"-70.8\" font-family=\"Times,serif\" font-size=\"14.00\">data 0.0000</text>\n<polyline fill=\"none\" stroke=\"black\" points=\"552.5,-56.5 552.5,-92.5 \"/>\n<text text-anchor=\"middle\" x=\"613.5\" y=\"-70.8\" font-family=\"Times,serif\" font-size=\"14.00\">grad 0.000000</text>\n</g>\n<!-- 140199705433696&#45;&gt;140199705443872+ -->\n<g id=\"edge14\" class=\"edge\">\n<title>140199705433696&#45;&gt;140199705443872+</title>\n<path fill=\"none\" stroke=\"black\" d=\"M671.4,-92.51C682.92,-94.04 693.78,-95.49 703.29,-96.75\"/>\n<polygon fill=\"black\" stroke=\"black\" points=\"703.04,-100.25 713.42,-98.1 703.96,-93.31 703.04,-100.25\"/>\n</g>\n<!-- 140199705433696* -->\n<g id=\"node13\" class=\"node\">\n<title>140199705433696*</title>\n<ellipse fill=\"none\" stroke=\"black\" cx=\"330\" cy=\"-74.5\" rx=\"27\" ry=\"18\"/>\n<text text-anchor=\"middle\" x=\"330\" y=\"-70.8\" font-family=\"Times,serif\" font-size=\"14.00\">*</text>\n</g>\n<!-- 140199705433696*&#45;&gt;140199705433696 -->\n<g id=\"edge6\" class=\"edge\">\n<title>140199705433696*&#45;&gt;140199705433696</title>\n<path fill=\"none\" stroke=\"black\" d=\"M357.12,-74.5C365.16,-74.5 374.63,-74.5 384.96,-74.5\"/>\n<polygon fill=\"black\" stroke=\"black\" points=\"385.1,-78 395.1,-74.5 385.1,-71 385.1,-78\"/>\n</g>\n<!-- 140199705443920 -->\n<g id=\"node14\" class=\"node\">\n<title>140199705443920</title>\n<polygon fill=\"none\" stroke=\"black\" points=\"2.5,-56.5 2.5,-92.5 264.5,-92.5 264.5,-56.5 2.5,-56.5\"/>\n<text text-anchor=\"middle\" x=\"21.5\" y=\"-70.8\" font-family=\"Times,serif\" font-size=\"14.00\">w2</text>\n<polyline fill=\"none\" stroke=\"black\" points=\"40.5,-56.5 40.5,-92.5 \"/>\n<text text-anchor=\"middle\" x=\"91.5\" y=\"-70.8\" font-family=\"Times,serif\" font-size=\"14.00\">data 1.0000</text>\n<polyline fill=\"none\" stroke=\"black\" points=\"142.5,-56.5 142.5,-92.5 \"/>\n<text text-anchor=\"middle\" x=\"203.5\" y=\"-70.8\" font-family=\"Times,serif\" font-size=\"14.00\">grad 0.000000</text>\n</g>\n<!-- 140199705443920&#45;&gt;140199705433696* -->\n<g id=\"edge16\" class=\"edge\">\n<title>140199705443920&#45;&gt;140199705433696*</title>\n<path fill=\"none\" stroke=\"black\" d=\"M264.5,-74.5C274.56,-74.5 284.09,-74.5 292.59,-74.5\"/>\n<polygon fill=\"black\" stroke=\"black\" points=\"292.75,-78 302.75,-74.5 292.75,-71 292.75,-78\"/>\n</g>\n<!-- 140199731681776 -->\n<g id=\"node15\" class=\"node\">\n<title>140199731681776</title>\n<polygon fill=\"none\" stroke=\"black\" points=\"1998.6,-82.5 1998.6,-118.5 2243.6,-118.5 2243.6,-82.5 1998.6,-82.5\"/>\n<text text-anchor=\"middle\" x=\"2009.1\" y=\"-96.8\" font-family=\"Times,serif\" font-size=\"14.00\"> </text>\n<polyline fill=\"none\" stroke=\"black\" points=\"2019.6,-82.5 2019.6,-118.5 \"/>\n<text text-anchor=\"middle\" x=\"2070.6\" y=\"-96.8\" font-family=\"Times,serif\" font-size=\"14.00\">data 1.0000</text>\n<polyline fill=\"none\" stroke=\"black\" points=\"2121.6,-82.5 2121.6,-118.5 \"/>\n<text text-anchor=\"middle\" x=\"2182.6\" y=\"-96.8\" font-family=\"Times,serif\" font-size=\"14.00\">grad 0.000000</text>\n</g>\n<!-- 140199731681776&#45;&gt;140199731677120+ -->\n<g id=\"edge18\" class=\"edge\">\n<title>140199731681776&#45;&gt;140199731677120+</title>\n<path fill=\"none\" stroke=\"black\" d=\"M2243.75,-100.5C2253.38,-100.5 2262.55,-100.5 2270.77,-100.5\"/>\n<polygon fill=\"black\" stroke=\"black\" points=\"2270.98,-104 2280.98,-100.5 2270.98,-97 2270.98,-104\"/>\n</g>\n<!-- 140199731675344 -->\n<g id=\"node16\" class=\"node\">\n<title>140199731675344</title>\n<polygon fill=\"none\" stroke=\"black\" points=\"2372.79,-27.5 2372.79,-63.5 2617.79,-63.5 2617.79,-27.5 2372.79,-27.5\"/>\n<text text-anchor=\"middle\" x=\"2383.29\" y=\"-41.8\" font-family=\"Times,serif\" font-size=\"14.00\"> </text>\n<polyline fill=\"none\" stroke=\"black\" points=\"2393.79,-27.5 2393.79,-63.5 \"/>\n<text text-anchor=\"middle\" x=\"2444.79\" y=\"-41.8\" font-family=\"Times,serif\" font-size=\"14.00\">data 0.1716</text>\n<polyline fill=\"none\" stroke=\"black\" points=\"2495.79,-27.5 2495.79,-63.5 \"/>\n<text text-anchor=\"middle\" x=\"2556.79\" y=\"-41.8\" font-family=\"Times,serif\" font-size=\"14.00\">grad 0.000000</text>\n</g>\n<!-- 140199731676016* -->\n<g id=\"node23\" class=\"node\">\n<title>140199731676016*</title>\n<ellipse fill=\"none\" stroke=\"black\" cx=\"2680.79\" cy=\"-72.5\" rx=\"27\" ry=\"18\"/>\n<text text-anchor=\"middle\" x=\"2680.79\" y=\"-68.8\" font-family=\"Times,serif\" font-size=\"14.00\">*</text>\n</g>\n<!-- 140199731675344&#45;&gt;140199731676016* -->\n<g id=\"edge19\" class=\"edge\">\n<title>140199731675344&#45;&gt;140199731676016*</title>\n<path fill=\"none\" stroke=\"black\" d=\"M2617.92,-63.4C2627.34,-64.78 2636.29,-66.1 2644.31,-67.28\"/>\n<polygon fill=\"black\" stroke=\"black\" points=\"2643.87,-70.75 2654.27,-68.75 2644.89,-63.83 2643.87,-70.75\"/>\n</g>\n<!-- 140199731675344**&#45;1&#45;&gt;140199731675344 -->\n<g id=\"edge7\" class=\"edge\">\n<title>140199731675344**&#45;1&#45;&gt;140199731675344</title>\n<path fill=\"none\" stroke=\"black\" d=\"M2336.9,-45.5C2344.38,-45.5 2353,-45.5 2362.27,-45.5\"/>\n<polygon fill=\"black\" stroke=\"black\" points=\"2362.55,-49 2372.55,-45.5 2362.55,-42 2362.55,-49\"/>\n</g>\n<!-- 140199705431344 -->\n<g id=\"node18\" class=\"node\">\n<title>140199705431344</title>\n<polygon fill=\"none\" stroke=\"black\" points=\"2743.79,-109.5 2743.79,-145.5 2993.79,-145.5 2993.79,-109.5 2743.79,-109.5\"/>\n<text text-anchor=\"middle\" x=\"2754.29\" y=\"-123.8\" font-family=\"Times,serif\" font-size=\"14.00\"> </text>\n<polyline fill=\"none\" stroke=\"black\" points=\"2764.79,-109.5 2764.79,-145.5 \"/>\n<text text-anchor=\"middle\" x=\"2818.29\" y=\"-123.8\" font-family=\"Times,serif\" font-size=\"14.00\">data &#45;1.0000</text>\n<polyline fill=\"none\" stroke=\"black\" points=\"2871.79,-109.5 2871.79,-145.5 \"/>\n<text text-anchor=\"middle\" x=\"2932.79\" y=\"-123.8\" font-family=\"Times,serif\" font-size=\"14.00\">grad 0.000000</text>\n</g>\n<!-- 140199705431344&#45;&gt;140199705443344+ -->\n<g id=\"edge22\" class=\"edge\">\n<title>140199705431344&#45;&gt;140199705443344+</title>\n<path fill=\"none\" stroke=\"black\" d=\"M2989.43,-109.49C3000.49,-107.82 3011.01,-106.24 3020.28,-104.85\"/>\n<polygon fill=\"black\" stroke=\"black\" points=\"3020.8,-108.31 3030.17,-103.36 3019.76,-101.38 3020.8,-108.31\"/>\n</g>\n<!-- 140199731678512 -->\n<g id=\"node19\" class=\"node\">\n<title>140199731678512</title>\n<polygon fill=\"none\" stroke=\"black\" points=\"1253.5,-0.5 1253.5,-36.5 1498.5,-36.5 1498.5,-0.5 1253.5,-0.5\"/>\n<text text-anchor=\"middle\" x=\"1264\" y=\"-14.8\" font-family=\"Times,serif\" font-size=\"14.00\"> </text>\n<polyline fill=\"none\" stroke=\"black\" points=\"1274.5,-0.5 1274.5,-36.5 \"/>\n<text text-anchor=\"middle\" x=\"1325.5\" y=\"-14.8\" font-family=\"Times,serif\" font-size=\"14.00\">data 2.0000</text>\n<polyline fill=\"none\" stroke=\"black\" points=\"1376.5,-0.5 1376.5,-36.5 \"/>\n<text text-anchor=\"middle\" x=\"1437.5\" y=\"-14.8\" font-family=\"Times,serif\" font-size=\"14.00\">grad 0.000000</text>\n</g>\n<!-- 140199731678512&#45;&gt;140199731678608* -->\n<g id=\"edge27\" class=\"edge\">\n<title>140199731678512&#45;&gt;140199731678608*</title>\n<path fill=\"none\" stroke=\"black\" d=\"M1498.73,-36.17C1508.99,-37.66 1518.73,-39.07 1527.38,-40.33\"/>\n<polygon fill=\"black\" stroke=\"black\" points=\"1526.96,-43.8 1537.35,-41.78 1527.96,-36.88 1526.96,-43.8\"/>\n</g>\n<!-- 140199705438016 -->\n<g id=\"node20\" class=\"node\">\n<title>140199705438016</title>\n<polygon fill=\"none\" stroke=\"black\" points=\"4.5,-111.5 4.5,-147.5 262.5,-147.5 262.5,-111.5 4.5,-111.5\"/>\n<text text-anchor=\"middle\" x=\"21.5\" y=\"-125.8\" font-family=\"Times,serif\" font-size=\"14.00\">x1</text>\n<polyline fill=\"none\" stroke=\"black\" points=\"38.5,-111.5 38.5,-147.5 \"/>\n<text text-anchor=\"middle\" x=\"89.5\" y=\"-125.8\" font-family=\"Times,serif\" font-size=\"14.00\">data 2.0000</text>\n<polyline fill=\"none\" stroke=\"black\" points=\"140.5,-111.5 140.5,-147.5 \"/>\n<text text-anchor=\"middle\" x=\"201.5\" y=\"-125.8\" font-family=\"Times,serif\" font-size=\"14.00\">grad 0.000000</text>\n</g>\n<!-- 140199705438016&#45;&gt;140199705443392* -->\n<g id=\"edge23\" class=\"edge\">\n<title>140199705438016&#45;&gt;140199705443392*</title>\n<path fill=\"none\" stroke=\"black\" d=\"M262.61,-129.5C273.45,-129.5 283.71,-129.5 292.79,-129.5\"/>\n<polygon fill=\"black\" stroke=\"black\" points=\"292.86,-133 302.86,-129.5 292.86,-126 292.86,-133\"/>\n</g>\n<!-- 140199705441616 -->\n<g id=\"node21\" class=\"node\">\n<title>140199705441616</title>\n<polygon fill=\"none\" stroke=\"black\" points=\"4.5,-1.5 4.5,-37.5 262.5,-37.5 262.5,-1.5 4.5,-1.5\"/>\n<text text-anchor=\"middle\" x=\"21.5\" y=\"-15.8\" font-family=\"Times,serif\" font-size=\"14.00\">x2</text>\n<polyline fill=\"none\" stroke=\"black\" points=\"38.5,-1.5 38.5,-37.5 \"/>\n<text text-anchor=\"middle\" x=\"89.5\" y=\"-15.8\" font-family=\"Times,serif\" font-size=\"14.00\">data 0.0000</text>\n<polyline fill=\"none\" stroke=\"black\" points=\"140.5,-1.5 140.5,-37.5 \"/>\n<text text-anchor=\"middle\" x=\"201.5\" y=\"-15.8\" font-family=\"Times,serif\" font-size=\"14.00\">grad 0.000000</text>\n</g>\n<!-- 140199705441616&#45;&gt;140199705433696* -->\n<g id=\"edge15\" class=\"edge\">\n<title>140199705441616&#45;&gt;140199705433696*</title>\n<path fill=\"none\" stroke=\"black\" d=\"M235.31,-37.58C246.1,-40.24 256.84,-43.21 267,-46.5 277.73,-49.97 289.08,-54.74 299.1,-59.37\"/>\n<polygon fill=\"black\" stroke=\"black\" points=\"297.69,-62.58 308.23,-63.71 300.7,-56.26 297.69,-62.58\"/>\n</g>\n<!-- 140199731676016 -->\n<g id=\"node22\" class=\"node\">\n<title>140199731676016</title>\n<polygon fill=\"none\" stroke=\"black\" points=\"2746.29,-54.5 2746.29,-90.5 2991.29,-90.5 2991.29,-54.5 2746.29,-54.5\"/>\n<text text-anchor=\"middle\" x=\"2756.79\" y=\"-68.8\" font-family=\"Times,serif\" font-size=\"14.00\"> </text>\n<polyline fill=\"none\" stroke=\"black\" points=\"2767.29,-54.5 2767.29,-90.5 \"/>\n<text text-anchor=\"middle\" x=\"2818.29\" y=\"-68.8\" font-family=\"Times,serif\" font-size=\"14.00\">data 1.1716</text>\n<polyline fill=\"none\" stroke=\"black\" points=\"2869.29,-54.5 2869.29,-90.5 \"/>\n<text text-anchor=\"middle\" x=\"2930.29\" y=\"-68.8\" font-family=\"Times,serif\" font-size=\"14.00\">grad 0.000000</text>\n</g>\n<!-- 140199731676016&#45;&gt;140199705443344+ -->\n<g id=\"edge20\" class=\"edge\">\n<title>140199731676016&#45;&gt;140199705443344+</title>\n<path fill=\"none\" stroke=\"black\" d=\"M2991.52,-90.17C3001.78,-91.66 3011.52,-93.07 3020.17,-94.33\"/>\n<polygon fill=\"black\" stroke=\"black\" points=\"3019.75,-97.8 3030.14,-95.78 3020.75,-90.88 3019.75,-97.8\"/>\n</g>\n<!-- 140199731676016*&#45;&gt;140199731676016 -->\n<g id=\"edge8\" class=\"edge\">\n<title>140199731676016*&#45;&gt;140199731676016</title>\n<path fill=\"none\" stroke=\"black\" d=\"M2708.04,-72.5C2716.16,-72.5 2725.72,-72.5 2736.05,-72.5\"/>\n<polygon fill=\"black\" stroke=\"black\" points=\"2736.17,-76 2746.17,-72.5 2736.17,-69 2736.17,-76\"/>\n</g>\n<!-- 140199731678608 -->\n<g id=\"node24\" class=\"node\">\n<title>140199731678608</title>\n<polygon fill=\"none\" stroke=\"black\" points=\"1627,-27.5 1627,-63.5 1872,-63.5 1872,-27.5 1627,-27.5\"/>\n<text text-anchor=\"middle\" x=\"1637.5\" y=\"-41.8\" font-family=\"Times,serif\" font-size=\"14.00\"> </text>\n<polyline fill=\"none\" stroke=\"black\" points=\"1648,-27.5 1648,-63.5 \"/>\n<text text-anchor=\"middle\" x=\"1699\" y=\"-41.8\" font-family=\"Times,serif\" font-size=\"14.00\">data 1.7627</text>\n<polyline fill=\"none\" stroke=\"black\" points=\"1750,-27.5 1750,-63.5 \"/>\n<text text-anchor=\"middle\" x=\"1811\" y=\"-41.8\" font-family=\"Times,serif\" font-size=\"14.00\">grad 0.000000</text>\n</g>\n<!-- 140199731678608&#45;&gt;140199731681344exp -->\n<g id=\"edge26\" class=\"edge\">\n<title>140199731678608&#45;&gt;140199731681344exp</title>\n<path fill=\"none\" stroke=\"black\" d=\"M1872.07,-45.5C1881.16,-45.5 1889.81,-45.5 1897.62,-45.5\"/>\n<polygon fill=\"black\" stroke=\"black\" points=\"1897.71,-49 1907.71,-45.5 1897.71,-42 1897.71,-49\"/>\n</g>\n<!-- 140199731678608*&#45;&gt;140199731678608 -->\n<g id=\"edge9\" class=\"edge\">\n<title>140199731678608*&#45;&gt;140199731678608</title>\n<path fill=\"none\" stroke=\"black\" d=\"M1591.29,-45.5C1598.79,-45.5 1607.51,-45.5 1616.93,-45.5\"/>\n<polygon fill=\"black\" stroke=\"black\" points=\"1616.97,-49 1626.97,-45.5 1616.97,-42 1616.97,-49\"/>\n</g>\n<!-- 140199731677120 -->\n<g id=\"node26\" class=\"node\">\n<title>140199731677120</title>\n<polygon fill=\"none\" stroke=\"black\" points=\"2372.79,-82.5 2372.79,-118.5 2617.79,-118.5 2617.79,-82.5 2372.79,-82.5\"/>\n<text text-anchor=\"middle\" x=\"2383.29\" y=\"-96.8\" font-family=\"Times,serif\" font-size=\"14.00\"> </text>\n<polyline fill=\"none\" stroke=\"black\" points=\"2393.79,-82.5 2393.79,-118.5 \"/>\n<text text-anchor=\"middle\" x=\"2444.79\" y=\"-96.8\" font-family=\"Times,serif\" font-size=\"14.00\">data 6.8284</text>\n<polyline fill=\"none\" stroke=\"black\" points=\"2495.79,-82.5 2495.79,-118.5 \"/>\n<text text-anchor=\"middle\" x=\"2556.79\" y=\"-96.8\" font-family=\"Times,serif\" font-size=\"14.00\">grad 0.000000</text>\n</g>\n<!-- 140199731677120&#45;&gt;140199731676016* -->\n<g id=\"edge21\" class=\"edge\">\n<title>140199731677120&#45;&gt;140199731676016*</title>\n<path fill=\"none\" stroke=\"black\" d=\"M2614.32,-82.49C2625.02,-80.86 2635.2,-79.3 2644.21,-77.93\"/>\n<polygon fill=\"black\" stroke=\"black\" points=\"2644.84,-81.37 2654.2,-76.4 2643.79,-74.45 2644.84,-81.37\"/>\n</g>\n<!-- 140199731677120+&#45;&gt;140199731677120 -->\n<g id=\"edge10\" class=\"edge\">\n<title>140199731677120+&#45;&gt;140199731677120</title>\n<path fill=\"none\" stroke=\"black\" d=\"M2335.32,-100.5C2343.17,-100.5 2352.36,-100.5 2362.3,-100.5\"/>\n<polygon fill=\"black\" stroke=\"black\" points=\"2362.47,-104 2372.47,-100.5 2362.47,-97 2362.47,-104\"/>\n</g>\n<!-- 140199705440752 -->\n<g id=\"node28\" class=\"node\">\n<title>140199705440752</title>\n<polygon fill=\"none\" stroke=\"black\" points=\"834.5,-28.5 834.5,-64.5 1093.5,-64.5 1093.5,-28.5 834.5,-28.5\"/>\n<text text-anchor=\"middle\" x=\"852\" y=\"-42.8\" font-family=\"Times,serif\" font-size=\"14.00\">b1</text>\n<polyline fill=\"none\" stroke=\"black\" points=\"869.5,-28.5 869.5,-64.5 \"/>\n<text text-anchor=\"middle\" x=\"920.5\" y=\"-42.8\" font-family=\"Times,serif\" font-size=\"14.00\">data 6.8814</text>\n<polyline fill=\"none\" stroke=\"black\" points=\"971.5,-28.5 971.5,-64.5 \"/>\n<text text-anchor=\"middle\" x=\"1032.5\" y=\"-42.8\" font-family=\"Times,serif\" font-size=\"14.00\">grad 0.000000</text>\n</g>\n<!-- 140199705440752&#45;&gt;140199705442912+ -->\n<g id=\"edge11\" class=\"edge\">\n<title>140199705440752&#45;&gt;140199705442912+</title>\n<path fill=\"none\" stroke=\"black\" d=\"M1093.82,-62.17C1114.84,-64.72 1134.99,-67.17 1151.14,-69.14\"/>\n<polygon fill=\"black\" stroke=\"black\" points=\"1150.8,-72.62 1161.15,-70.36 1151.64,-65.67 1150.8,-72.62\"/>\n</g>\n</g>\n</svg>\n",
      "text/plain": "<graphviz.graphs.Digraph at 0x7f82c9a3f880>"
     },
     "execution_count": 33,
     "metadata": {},
     "output_type": "execute_result"
    }
   ],
   "source": [
    "draw_dot(o)"
   ],
   "metadata": {
    "collapsed": false,
    "ExecuteTime": {
     "end_time": "2023-09-27T16:49:31.687747404Z",
     "start_time": "2023-09-27T16:49:31.661872774Z"
    }
   },
   "id": "6e5eb250654ccf7b"
  },
  {
   "cell_type": "code",
   "execution_count": 34,
   "outputs": [],
   "source": [
    "o.backward()"
   ],
   "metadata": {
    "collapsed": false,
    "ExecuteTime": {
     "end_time": "2023-09-27T16:49:31.742255478Z",
     "start_time": "2023-09-27T16:49:31.664211589Z"
    }
   },
   "id": "71861897231776bb"
  },
  {
   "cell_type": "markdown",
   "source": [
    "## Pytorch "
   ],
   "metadata": {
    "collapsed": false
   },
   "id": "ac4eb641e55ca902"
  },
  {
   "cell_type": "code",
   "execution_count": 35,
   "outputs": [],
   "source": [
    "# import torch\n",
    "# \n",
    "# x1 = torch.Tensor([2.0]).double()   ; x1.requires_grad = True\n",
    "# x2 = torch.Tensor([0.0]).double()   ; x2.requires_grad = True\n",
    "# w1 = torch.Tensor([-3.0]).double()  ; w1.requires_grad = True\n",
    "# w2 = torch.Tensor([1.0]).double()   ; w2.requires_grad = True\n",
    "# b1 = torch.Tensor([6.8813735870195432]).double()   ; b1.requires_grad = True\n",
    "# n = x1*w1 + x2*w2 + b1\n",
    "# o = torch.tanh(n)\n",
    "# \n",
    "# print(o.data.item())\n",
    "# o.backward()\n",
    "# \n",
    "# print(\"---\")\n",
    "# print('x2', x2.grad.item())\n",
    "# print('w2', w2.grad.item())\n",
    "# print('x1', x1.grad.item())\n",
    "# print('w1', w1.grad.item())"
   ],
   "metadata": {
    "collapsed": false,
    "ExecuteTime": {
     "end_time": "2023-09-27T16:49:31.742451010Z",
     "start_time": "2023-09-27T16:49:31.707576968Z"
    }
   },
   "id": "ad5e057d89e53025"
  },
  {
   "cell_type": "code",
   "execution_count": 48,
   "outputs": [],
   "source": [
    "class Neuron:\n",
    "    \n",
    "    def __init__(self, nin):\n",
    "        \"\"\"\n",
    "        :param nin: number of inputs for neuron\n",
    "        \"\"\"\n",
    "        self.w = [Value(random.uniform(-1, 1)) for _ in range(nin)]\n",
    "        self.b = Value(random.uniform(-1, 1))\n",
    "    \n",
    "    def __call__(self, x):\n",
    "        act = sum((xi*wi for xi, wi in zip(self.w, x)), self.b)              \n",
    "        out = act.tanh()\n",
    "        return out\n",
    "    \n",
    "    def parameters(self):\n",
    "        return self.w + [self.b]\n",
    "    \n",
    "\n",
    "class Layer:\n",
    "    \n",
    "    def __init__(self, nin, nout):\n",
    "        \"\"\"\n",
    "        :param nin: number of inputs \n",
    "        :param nout: number of outputs\n",
    "        \"\"\"\n",
    "        self.neurons = [Neuron(nin) for _ in range(nout)]\n",
    "        \n",
    "    def __call__(self, x):\n",
    "        outs = [n(x) for n in self.neurons]\n",
    "        return outs[0] if len(outs) == 1 else outs\n",
    "    \n",
    "    def parameters(self):\n",
    "        return [p for neuron in self.neurons for p in neuron.parameters()]\n",
    "\n",
    "\n",
    "class MLP:\n",
    "    \n",
    "    def __init__(self, nin, nouts):\n",
    "        \"\"\"\n",
    "        :param nin: number of inputs \n",
    "        :param nouts: number of outputs\n",
    "        \"\"\"\n",
    "        sz = [nin] + nouts\n",
    "        self.layers = [Layer(sz[i], sz[i+1]) for i in range(len(nouts))]\n",
    "        \n",
    "    def __call__(self, x):\n",
    "        for layer in self.layers:\n",
    "            x = layer(x)\n",
    "        return x\n",
    "    \n",
    "    def parameters(self):\n",
    "        return [p for layer in self.layers for p in layer.parameters()]\n",
    "    "
   ],
   "metadata": {
    "collapsed": false,
    "ExecuteTime": {
     "end_time": "2023-09-27T16:58:27.562145017Z",
     "start_time": "2023-09-27T16:58:27.559932492Z"
    }
   },
   "id": "30cef15737d520e3"
  },
  {
   "cell_type": "code",
   "execution_count": 49,
   "outputs": [
    {
     "data": {
      "text/plain": "Value(data=0.47463230013753693)"
     },
     "execution_count": 49,
     "metadata": {},
     "output_type": "execute_result"
    }
   ],
   "source": [
    "x = [2.0, 3.0, -1]\n",
    "n = MLP(3, [4, 4, 1])\n",
    "n(x)"
   ],
   "metadata": {
    "collapsed": false,
    "ExecuteTime": {
     "end_time": "2023-09-27T16:58:29.593390249Z",
     "start_time": "2023-09-27T16:58:29.590885745Z"
    }
   },
   "id": "c9849cb1b98a4db1"
  },
  {
   "cell_type": "code",
   "execution_count": 50,
   "outputs": [
    {
     "data": {
      "text/plain": "[Value(data=-0.21486553946261),\n Value(data=-0.8205767006813172),\n Value(data=0.3928892564916602),\n Value(data=0.9999265688090582),\n Value(data=-0.7708807271810683),\n Value(data=-0.5531209648867024),\n Value(data=0.11352376138703857),\n Value(data=-0.2459991726667603),\n Value(data=0.8927939239896356),\n Value(data=-0.6353514044518775),\n Value(data=-0.20580993389482516),\n Value(data=-0.0476353640041598),\n Value(data=0.27353935463325607),\n Value(data=0.8851869982112683),\n Value(data=0.33250232625550935),\n Value(data=0.7417782408241602),\n Value(data=0.6648247282437005),\n Value(data=-0.09183500501957287),\n Value(data=-0.1203796157510395),\n Value(data=-0.9134474874230414),\n Value(data=0.24551223767966213),\n Value(data=0.31978298738078204),\n Value(data=0.4959790242833382),\n Value(data=0.3967559912989844),\n Value(data=0.6290000907249478),\n Value(data=0.5283323482520488),\n Value(data=-0.7386776723956836),\n Value(data=0.1296407309660026),\n Value(data=-0.9412375541676803),\n Value(data=0.5639837407535462),\n Value(data=0.16710820668508175),\n Value(data=0.1306822476421845),\n Value(data=-0.7373193815787558),\n Value(data=0.9361389111515588),\n Value(data=0.6267325437873896),\n Value(data=0.5621404252360642),\n Value(data=-0.7984433602950938),\n Value(data=0.4871701947719065),\n Value(data=0.03485465629877371),\n Value(data=-0.7193396127220055),\n Value(data=0.32709188089868246)]"
     },
     "execution_count": 50,
     "metadata": {},
     "output_type": "execute_result"
    }
   ],
   "source": [
    "n.parameters()"
   ],
   "metadata": {
    "collapsed": false,
    "ExecuteTime": {
     "end_time": "2023-09-27T16:58:33.832027626Z",
     "start_time": "2023-09-27T16:58:33.789378985Z"
    }
   },
   "id": "a31f2062cafafb4a"
  },
  {
   "cell_type": "code",
   "execution_count": 51,
   "outputs": [],
   "source": [
    "xs = [\n",
    "    [2.0, 3.0, -1.0],\n",
    "    [3.0, -1.0, 0.5],\n",
    "    [0.5, 1.0, 1.0],\n",
    "    [1.0, 1.0, -1.0]\n",
    "]\n",
    "\n",
    "ys = [1.0, -1.0, -1.0, 1.0]"
   ],
   "metadata": {
    "collapsed": false,
    "ExecuteTime": {
     "end_time": "2023-09-27T16:58:39.980393462Z",
     "start_time": "2023-09-27T16:58:39.977527627Z"
    }
   },
   "id": "d2cd2211276c2f7d"
  },
  {
   "cell_type": "code",
   "execution_count": 54,
   "outputs": [
    {
     "data": {
      "text/plain": "[Value(data=0.8946814361851715),\n Value(data=-0.9347574730969392),\n Value(data=-0.815853024498202),\n Value(data=0.837789379598809)]"
     },
     "execution_count": 54,
     "metadata": {},
     "output_type": "execute_result"
    }
   ],
   "source": [
    "y_pred = [n(x) for x in xs]\n",
    "y_pred"
   ],
   "metadata": {
    "collapsed": false,
    "ExecuteTime": {
     "end_time": "2023-09-27T16:58:53.263394644Z",
     "start_time": "2023-09-27T16:58:53.258449231Z"
    }
   },
   "id": "8d213fb0b653d7e9"
  },
  {
   "cell_type": "code",
   "execution_count": 53,
   "outputs": [
    {
     "name": "stdout",
     "output_type": "stream",
     "text": [
      "0 2.727045608122124\n",
      "1 1.7717577302361054\n",
      "2 1.182737905939907\n",
      "3 0.8002776137541283\n",
      "4 0.5717465413178678\n",
      "5 0.4362449557868959\n",
      "6 0.3478816891991139\n",
      "7 0.28607898447685776\n",
      "8 0.24110149436140704\n",
      "9 0.2072522325401297\n",
      "10 0.1810415389017288\n",
      "11 0.16025118763107732\n",
      "12 0.14342052112322518\n",
      "13 0.12955643827452057\n",
      "14 0.11796420295258564\n",
      "15 0.10814538548799994\n",
      "16 0.09973432352312567\n",
      "17 0.0924573962342919\n",
      "18 0.08610622039893182\n",
      "19 0.08051958078129592\n"
     ]
    }
   ],
   "source": [
    "for k in range(20):\n",
    "    # forward pass\n",
    "    y_pred = [n(x) for x in xs]\n",
    "    loss = sum([(yout - ygt)**2 for ygt, yout in zip(ys, y_pred)])\n",
    "    \n",
    "    # zero grad\n",
    "    for p in n.parameters():\n",
    "        p.grad = 0.0\n",
    "    \n",
    "    # backward pass\n",
    "    loss.backward()\n",
    "    \n",
    "    # update \n",
    "    for p in n.parameters():\n",
    "        p.data += -0.05 * p.grad\n",
    "    \n",
    "    print(k, loss.data)\n",
    "\n"
   ],
   "metadata": {
    "collapsed": false,
    "ExecuteTime": {
     "end_time": "2023-09-27T16:58:44.518650057Z",
     "start_time": "2023-09-27T16:58:44.513860455Z"
    }
   },
   "id": "a5fa81c3f684950d"
  }
 ],
 "metadata": {
  "kernelspec": {
   "display_name": "Python 3",
   "language": "python",
   "name": "python3"
  },
  "language_info": {
   "codemirror_mode": {
    "name": "ipython",
    "version": 2
   },
   "file_extension": ".py",
   "mimetype": "text/x-python",
   "name": "python",
   "nbconvert_exporter": "python",
   "pygments_lexer": "ipython2",
   "version": "2.7.6"
  }
 },
 "nbformat": 4,
 "nbformat_minor": 5
}
