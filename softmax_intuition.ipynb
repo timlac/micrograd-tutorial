{
 "cells": [
  {
   "cell_type": "code",
   "execution_count": 1,
   "id": "initial_id",
   "metadata": {
    "collapsed": true,
    "ExecuteTime": {
     "end_time": "2023-10-19T15:20:30.573017588Z",
     "start_time": "2023-10-19T15:20:30.288562993Z"
    }
   },
   "outputs": [],
   "source": [
    "import numpy as np\n",
    "import matplotlib.pyplot as plt"
   ]
  },
  {
   "cell_type": "code",
   "execution_count": 2,
   "outputs": [],
   "source": [
    "p1 = 0.6\n",
    "p2 = 0.4"
   ],
   "metadata": {
    "collapsed": false,
    "ExecuteTime": {
     "end_time": "2023-10-19T15:20:30.588908735Z",
     "start_time": "2023-10-19T15:20:30.573469545Z"
    }
   },
   "id": "8f920ebfd39d6cc1"
  },
  {
   "cell_type": "code",
   "execution_count": 3,
   "outputs": [
    {
     "data": {
      "text/plain": "1.4999999999999998"
     },
     "execution_count": 3,
     "metadata": {},
     "output_type": "execute_result"
    }
   ],
   "source": [
    "odds_p1 = (p1 / (1 - p1))\n",
    "odds_p1"
   ],
   "metadata": {
    "collapsed": false,
    "ExecuteTime": {
     "end_time": "2023-10-19T15:20:30.589235368Z",
     "start_time": "2023-10-19T15:20:30.575434681Z"
    }
   },
   "id": "6b4924546b3a6492"
  },
  {
   "cell_type": "code",
   "execution_count": 4,
   "outputs": [
    {
     "data": {
      "text/plain": "0.6666666666666667"
     },
     "execution_count": 4,
     "metadata": {},
     "output_type": "execute_result"
    }
   ],
   "source": [
    "odds_p2 = (p2 / (1 - p2))\n",
    "odds_p2"
   ],
   "metadata": {
    "collapsed": false,
    "ExecuteTime": {
     "end_time": "2023-10-19T15:20:30.592465874Z",
     "start_time": "2023-10-19T15:20:30.590195695Z"
    }
   },
   "id": "96f5566e006ea8ea"
  },
  {
   "cell_type": "code",
   "execution_count": 5,
   "outputs": [
    {
     "data": {
      "text/plain": "0.4054651081081642"
     },
     "execution_count": 5,
     "metadata": {},
     "output_type": "execute_result"
    }
   ],
   "source": [
    "log_odds_p1 = np.log(odds_p1)\n",
    "log_odds_p1"
   ],
   "metadata": {
    "collapsed": false,
    "ExecuteTime": {
     "end_time": "2023-10-19T15:20:30.633073468Z",
     "start_time": "2023-10-19T15:20:30.632620603Z"
    }
   },
   "id": "e6a5784f0b0ffab0"
  },
  {
   "cell_type": "code",
   "execution_count": 6,
   "outputs": [
    {
     "data": {
      "text/plain": "-0.4054651081081643"
     },
     "execution_count": 6,
     "metadata": {},
     "output_type": "execute_result"
    }
   ],
   "source": [
    "log_odds_p2 = np.log(odds_p2)\n",
    "log_odds_p2"
   ],
   "metadata": {
    "collapsed": false,
    "ExecuteTime": {
     "end_time": "2023-10-19T15:20:30.633245590Z",
     "start_time": "2023-10-19T15:20:30.632734913Z"
    }
   },
   "id": "f6d579efad750178"
  },
  {
   "cell_type": "code",
   "execution_count": 7,
   "outputs": [
    {
     "data": {
      "text/plain": "0.6"
     },
     "execution_count": 7,
     "metadata": {},
     "output_type": "execute_result"
    }
   ],
   "source": [
    "# Define the sigmoid function (inverse logit)\n",
    "def sigmoid(logit):\n",
    "    return 1 / (1 + np.exp(-logit))\n",
    "\n",
    "sigmoid(log_odds_p1)"
   ],
   "metadata": {
    "collapsed": false,
    "ExecuteTime": {
     "end_time": "2023-10-19T15:20:30.633343047Z",
     "start_time": "2023-10-19T15:20:30.632784614Z"
    }
   },
   "id": "ea14417c35bfe14c"
  },
  {
   "cell_type": "code",
   "execution_count": 8,
   "outputs": [
    {
     "data": {
      "text/plain": "0.4"
     },
     "execution_count": 8,
     "metadata": {},
     "output_type": "execute_result"
    }
   ],
   "source": [
    "sigmoid(log_odds_p2)"
   ],
   "metadata": {
    "collapsed": false,
    "ExecuteTime": {
     "end_time": "2023-10-19T15:20:30.633431595Z",
     "start_time": "2023-10-19T15:20:30.632825049Z"
    }
   },
   "id": "ffa2cd3df45b1659"
  },
  {
   "cell_type": "code",
   "execution_count": 12,
   "outputs": [],
   "source": [
    "def softmax(z):\n",
    "    # exp_z = np.exp(z - np.max(z, axis=1, keepdims=True))    \n",
    "    exp_z = np.exp(z) \n",
    "    print(exp_z)\n",
    "    \n",
    "    return exp_z / (1 + exp_z.sum(axis=1, keepdims=True))"
   ],
   "metadata": {
    "collapsed": false,
    "ExecuteTime": {
     "end_time": "2023-10-19T15:42:03.472907462Z",
     "start_time": "2023-10-19T15:42:03.429040745Z"
    }
   },
   "id": "57a6b6ef4fa7d73d"
  },
  {
   "cell_type": "code",
   "execution_count": 13,
   "outputs": [
    {
     "data": {
      "text/plain": "array([[ 0.40546511, -0.40546511]])"
     },
     "execution_count": 13,
     "metadata": {},
     "output_type": "execute_result"
    }
   ],
   "source": [
    "z = np.array([[log_odds_p1, log_odds_p2]])\n",
    "z"
   ],
   "metadata": {
    "collapsed": false,
    "ExecuteTime": {
     "end_time": "2023-10-19T15:42:04.457889961Z",
     "start_time": "2023-10-19T15:42:04.454912827Z"
    }
   },
   "id": "ef6092304b99cd1d"
  },
  {
   "cell_type": "code",
   "execution_count": 14,
   "outputs": [
    {
     "name": "stdout",
     "output_type": "stream",
     "text": [
      "[[1.5        0.66666667]]\n"
     ]
    },
    {
     "data": {
      "text/plain": "array([[0.69230769, 0.30769231]])"
     },
     "execution_count": 14,
     "metadata": {},
     "output_type": "execute_result"
    }
   ],
   "source": [
    "softmax(z)"
   ],
   "metadata": {
    "collapsed": false,
    "ExecuteTime": {
     "end_time": "2023-10-19T15:42:05.296165394Z",
     "start_time": "2023-10-19T15:42:05.293534193Z"
    }
   },
   "id": "659ab2f06d94b277"
  }
 ],
 "metadata": {
  "kernelspec": {
   "display_name": "Python 3",
   "language": "python",
   "name": "python3"
  },
  "language_info": {
   "codemirror_mode": {
    "name": "ipython",
    "version": 2
   },
   "file_extension": ".py",
   "mimetype": "text/x-python",
   "name": "python",
   "nbconvert_exporter": "python",
   "pygments_lexer": "ipython2",
   "version": "2.7.6"
  }
 },
 "nbformat": 4,
 "nbformat_minor": 5
}
